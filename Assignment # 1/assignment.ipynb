{
 "cells": [
  {
   "cell_type": "code",
   "execution_count": 2,
   "id": "0ac8d911",
   "metadata": {},
   "outputs": [
    {
     "name": "stdout",
     "output_type": "stream",
     "text": [
      "Twinkle,twinkle,little star,\n",
      "\n",
      "\tHow I wonder what you are!\n",
      "\n",
      "\t\tUp above the world so high,\n",
      "\n",
      "\t\tLike a diamond in the sky,\n",
      "Twinkle,twinkle,little star\n",
      "\n",
      "\tHow I wonder what you are!\n"
     ]
    }
   ],
   "source": [
    "print(\"Twinkle,twinkle,little star,\")\n",
    "print(\"\\n\\tHow I wonder what you are!\")\n",
    "print(\"\\n\\t\\tUp above the world so high,\")\n",
    "print(\"\\n\\t\\tLike a diamond in the sky,\")\n",
    "print(\"Twinkle,twinkle,little star\")\n",
    "print(\"\\n\\tHow I wonder what you are!\")"
   ]
  },
  {
   "cell_type": "code",
   "execution_count": 12,
   "id": "10889173",
   "metadata": {},
   "outputs": [
    {
     "name": "stdout",
     "output_type": "stream",
     "text": [
      "3.9.7 (default, Sep 16 2021, 16:59:28) [MSC v.1916 64 bit (AMD64)]\n"
     ]
    }
   ],
   "source": [
    "import sys\n",
    "print(sys.version)"
   ]
  },
  {
   "cell_type": "code",
   "execution_count": 13,
   "id": "cc292a70",
   "metadata": {},
   "outputs": [
    {
     "name": "stdout",
     "output_type": "stream",
     "text": [
      "Current date and time =2021-12-31 11:20:10.974671\n",
      "Today's date :=31/12/2021\n",
      "The time is no w:=11:2010\n"
     ]
    }
   ],
   "source": [
    "import datetime\n",
    "e=datetime.datetime.now()\n",
    "print (\"Current date and time =%s\"%e)\n",
    "print(\"Today's date :=%s/%s/%s\"%(e.day,e.month,e.year))\n",
    "print (\"The time is no w:=%s:%s%s\"%(e.hour,e.minute,e.second))"
   ]
  },
  {
   "cell_type": "code",
   "execution_count": null,
   "id": "6a1407bb",
   "metadata": {},
   "outputs": [],
   "source": [
    "print (\"Hello world\")"
   ]
  },
  {
   "cell_type": "code",
   "execution_count": null,
   "id": "4d072b14",
   "metadata": {},
   "outputs": [],
   "source": []
  }
 ],
 "metadata": {
  "kernelspec": {
   "display_name": "Python 3 (ipykernel)",
   "language": "python",
   "name": "python3"
  },
  "language_info": {
   "codemirror_mode": {
    "name": "ipython",
    "version": 3
   },
   "file_extension": ".py",
   "mimetype": "text/x-python",
   "name": "python",
   "nbconvert_exporter": "python",
   "pygments_lexer": "ipython3",
   "version": "3.9.7"
  }
 },
 "nbformat": 4,
 "nbformat_minor": 5
}
